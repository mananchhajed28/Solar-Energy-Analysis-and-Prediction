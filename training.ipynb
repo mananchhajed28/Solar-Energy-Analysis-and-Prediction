{
 "cells": [
  {
   "cell_type": "markdown",
   "metadata": {},
   "source": [
    "## Yield Prediction for Plant 1"
   ]
  },
  {
   "cell_type": "code",
   "execution_count": 4,
   "metadata": {},
   "outputs": [
    {
     "ename": "ModuleNotFoundError",
     "evalue": "No module named 'pandas'",
     "output_type": "error",
     "traceback": [
      "\u001b[1;31m---------------------------------------------------------------------------\u001b[0m",
      "\u001b[1;31mModuleNotFoundError\u001b[0m                       Traceback (most recent call last)",
      "Cell \u001b[1;32mIn[4], line 1\u001b[0m\n\u001b[1;32m----> 1\u001b[0m \u001b[38;5;28;01mimport\u001b[39;00m \u001b[38;5;21;01mpandas\u001b[39;00m \u001b[38;5;28;01mas\u001b[39;00m \u001b[38;5;21;01mpd\u001b[39;00m\n\u001b[0;32m      2\u001b[0m \u001b[38;5;28;01mfrom\u001b[39;00m \u001b[38;5;21;01msklearn\u001b[39;00m\u001b[38;5;21;01m.\u001b[39;00m\u001b[38;5;21;01mensemble\u001b[39;00m \u001b[38;5;28;01mimport\u001b[39;00m RandomForestRegressor\n\u001b[0;32m      3\u001b[0m \u001b[38;5;28;01mfrom\u001b[39;00m \u001b[38;5;21;01msklearn\u001b[39;00m\u001b[38;5;21;01m.\u001b[39;00m\u001b[38;5;21;01mneighbors\u001b[39;00m \u001b[38;5;28;01mimport\u001b[39;00m KNeighborsRegressor\n",
      "\u001b[1;31mModuleNotFoundError\u001b[0m: No module named 'pandas'"
     ]
    }
   ],
   "source": [
    "import pandas as pd\n",
    "from sklearn.ensemble import RandomForestRegressor\n",
    "from sklearn.neighbors import KNeighborsRegressor\n",
    "from sklearn.model_selection import train_test_split\n",
    "from sklearn.metrics import mean_squared_error, mean_absolute_error, r2_score\n",
    "\n",
    "# Load the data\n",
    "df = pd.read_csv('Plant1_filtered.csv')\n",
    "\n",
    "# Convert DATE_TIME to datetime and extract relevant features\n",
    "try:\n",
    "    df['DATE_TIME'] = pd.to_datetime(df['DATE_TIME'], format='%Y-%m-%d %H:%M')\n",
    "except ValueError:\n",
    "    df['DATE_TIME'] = pd.to_datetime(df['DATE_TIME'], format='%d-%m-%Y %H:%M')\n",
    "\n",
    "# Extracting features from DATE_TIME\n",
    "df['day'] = df['DATE_TIME'].dt.day\n",
    "df['month'] = df['DATE_TIME'].dt.month\n",
    "df['hour'] = df['DATE_TIME'].dt.hour\n",
    "\n",
    "# Features and target variable\n",
    "X = df[['DC_POWER', 'AC_POWER', 'day', 'month', 'hour']]\n",
    "y = df['DAILY_YIELD']\n",
    "\n",
    "# Split the data into train and test sets\n",
    "X_train, X_test, y_train, y_test = train_test_split(X, y, test_size=0.3, random_state=42)\n",
    "\n",
    "# RandomForestRegressor model\n",
    "rf_model = RandomForestRegressor(n_estimators=100, random_state=42)\n",
    "rf_model.fit(X_train, y_train)\n",
    "rf_y_pred = rf_model.predict(X_test)\n",
    "\n",
    "# K-Nearest Neighbors model\n",
    "knn_model = KNeighborsRegressor(n_neighbors=5)  # Default n_neighbors is 5\n",
    "knn_model.fit(X_train, y_train)\n",
    "knn_y_pred = knn_model.predict(X_test)\n",
    "\n",
    "# Evaluation Metrics\n",
    "print(\"Random Forest RMSE:\", mean_squared_error(y_test, rf_y_pred, squared=False))\n",
    "print(\"Random Forest MAE:\", mean_absolute_error(y_test, rf_y_pred))\n",
    "print(\"Random Forest R-squared:\", r2_score(y_test, rf_y_pred))\n",
    "\n",
    "print(\"KNN RMSE:\", mean_squared_error(y_test, knn_y_pred, squared=False))\n",
    "print(\"KNN MAE:\", mean_absolute_error(y_test, knn_y_pred))\n",
    "print(\"KNN R-squared:\", r2_score(y_test, knn_y_pred))\n",
    "\n",
    "# Predicting the next day's yield\n",
    "next_day_features = [[500, 1000, 15, 5, 12]]  # Example: [DC_POWER, AC_POWER, day, month, hour]\n",
    "predicted_next_day_yield_rf = rf_model.predict(next_day_features)\n",
    "predicted_next_day_yield_knn = knn_model.predict(next_day_features)\n",
    "\n",
    "print(f\"Predicted daily yield for the next day (RF): {predicted_next_day_yield_rf[0]:.2f}\")\n",
    "print(f\"Predicted daily yield for the next day (KNN): {predicted_next_day_yield_knn[0]:.2f}\")\n"
   ]
  },
  {
   "cell_type": "markdown",
   "metadata": {},
   "source": [
    "## Plant 1 Weather Data"
   ]
  },
  {
   "cell_type": "code",
   "execution_count": 1,
   "metadata": {},
   "outputs": [
    {
     "ename": "ModuleNotFoundError",
     "evalue": "No module named 'pandas'",
     "output_type": "error",
     "traceback": [
      "\u001b[1;31m---------------------------------------------------------------------------\u001b[0m",
      "\u001b[1;31mModuleNotFoundError\u001b[0m                       Traceback (most recent call last)",
      "Cell \u001b[1;32mIn[1], line 1\u001b[0m\n\u001b[1;32m----> 1\u001b[0m \u001b[38;5;28;01mimport\u001b[39;00m \u001b[38;5;21;01mpandas\u001b[39;00m \u001b[38;5;28;01mas\u001b[39;00m \u001b[38;5;21;01mpd\u001b[39;00m\n\u001b[0;32m      2\u001b[0m \u001b[38;5;28;01mfrom\u001b[39;00m \u001b[38;5;21;01msklearn\u001b[39;00m\u001b[38;5;21;01m.\u001b[39;00m\u001b[38;5;21;01mensemble\u001b[39;00m \u001b[38;5;28;01mimport\u001b[39;00m RandomForestRegressor\n\u001b[0;32m      3\u001b[0m \u001b[38;5;28;01mfrom\u001b[39;00m \u001b[38;5;21;01msklearn\u001b[39;00m\u001b[38;5;21;01m.\u001b[39;00m\u001b[38;5;21;01mneighbors\u001b[39;00m \u001b[38;5;28;01mimport\u001b[39;00m KNeighborsRegressor\n",
      "\u001b[1;31mModuleNotFoundError\u001b[0m: No module named 'pandas'"
     ]
    }
   ],
   "source": [
    "import pandas as pd\n",
    "from sklearn.ensemble import RandomForestRegressor\n",
    "from sklearn.neighbors import KNeighborsRegressor\n",
    "from sklearn.model_selection import train_test_split\n",
    "from sklearn.metrics import mean_squared_error, mean_absolute_error, r2_score\n",
    "\n",
    "# Load the data\n",
    "df = pd.read_csv('Plant1_Weather_filtered.csv')\n",
    "\n",
    "# Convert DATE_TIME to datetime and extract relevant features\n",
    "df['DATE_TIME'] = pd.to_datetime(df['DATE_TIME'], format='%Y-%m-%d %H:%M:%S')\n",
    "\n",
    "# Extracting features from DATE_TIME\n",
    "df['day'] = df['DATE_TIME'].dt.day\n",
    "df['month'] = df['DATE_TIME'].dt.month\n",
    "df['hour'] = df['DATE_TIME'].dt.hour\n",
    "\n",
    "# Features and target variable\n",
    "X = df[['AMBIENT_TEMPERATURE','MODULE_TEMPERATURE', 'day', 'month', 'hour']]\n",
    "y = df['IRRADIATION']\n",
    "\n",
    "# Split the data into train and test sets\n",
    "X_train, X_test, y_train, y_test = train_test_split(X, y, test_size=0.3, random_state=42)\n",
    "\n",
    "# RandomForestRegressor model\n",
    "rf_model = RandomForestRegressor(n_estimators=100, random_state=42)\n",
    "rf_model.fit(X_train, y_train)\n",
    "rf_y_pred = rf_model.predict(X_test)\n",
    "\n",
    "# K-Nearest Neighbors model\n",
    "knn_model = KNeighborsRegressor(n_neighbors=5)  # Default n_neighbors is 5\n",
    "knn_model.fit(X_train, y_train)\n",
    "knn_y_pred = knn_model.predict(X_test)\n",
    "\n",
    "# Evaluation Metrics\n",
    "print(\"Random Forest RMSE:\", mean_squared_error(y_test, rf_y_pred, squared=False))\n",
    "print(\"Random Forest MAE:\", mean_absolute_error(y_test, rf_y_pred))\n",
    "print(\"Random Forest R-squared:\", r2_score(y_test, rf_y_pred))\n",
    "\n",
    "print(\"KNN RMSE:\", mean_squared_error(y_test, knn_y_pred, squared=False))\n",
    "print(\"KNN MAE:\", mean_absolute_error(y_test, knn_y_pred))\n",
    "print(\"KNN R-squared:\", r2_score(y_test, knn_y_pred))\n",
    "\n",
    "# Example features for next day prediction, update them based on what you know will be the conditions\n",
    "next_day_features = [[25, 35, 16, 5, 12]]  # Example: [AMBIENT_TEMPERATURE, MODULE_TEMPERATURE, day, month, hour]\n",
    "predicted_next_day_yield_rf = rf_model.predict(next_day_features)\n",
    "predicted_next_day_yield_knn = knn_model.predict(next_day_features)\n",
    "\n",
    "print(f\"Predicted irradiation for the next day (RF): {predicted_next_day_yield_rf[0]:.2f}\")\n",
    "print(f\"Predicted irradiation for the next day (KNN): {predicted_next_day_yield_knn[0]:.2f}\")\n"
   ]
  },
  {
   "cell_type": "code",
   "execution_count": null,
   "metadata": {},
   "outputs": [],
   "source": []
  }
 ],
 "metadata": {
  "kernelspec": {
   "display_name": "Python 3",
   "language": "python",
   "name": "python3"
  },
  "language_info": {
   "codemirror_mode": {
    "name": "ipython",
    "version": 3
   },
   "file_extension": ".py",
   "mimetype": "text/x-python",
   "name": "python",
   "nbconvert_exporter": "python",
   "pygments_lexer": "ipython3",
   "version": "3.12.4"
  }
 },
 "nbformat": 4,
 "nbformat_minor": 2
}
